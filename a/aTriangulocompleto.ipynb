{
  "nbformat": 4,
  "nbformat_minor": 0,
  "metadata": {
    "colab": {
      "provenance": [],
      "authorship_tag": "ABX9TyOJYBVcWpJE9ywxh4oZBB4d",
      "include_colab_link": true
    },
    "kernelspec": {
      "name": "python3",
      "display_name": "Python 3"
    },
    "language_info": {
      "name": "python"
    }
  },
  "cells": [
    {
      "cell_type": "markdown",
      "metadata": {
        "id": "view-in-github",
        "colab_type": "text"
      },
      "source": [
        "<a href=\"https://colab.research.google.com/github/alejo94gf/Manejo-de-Variable/blob/main/a/aTriangulocompleto.ipynb\" target=\"_parent\"><img src=\"https://colab.research.google.com/assets/colab-badge.svg\" alt=\"Open In Colab\"/></a>"
      ]
    },
    {
      "cell_type": "code",
      "source": [],
      "metadata": {
        "id": "YoPfDvXQCas6"
      },
      "execution_count": null,
      "outputs": []
    },
    {
      "cell_type": "code",
      "source": [
        "a=[\"gordo\",\"clavo\",\"yuset\",\"blanco\"]\n",
        "\n",
        "for i in a:\n",
        "  print(i)"
      ],
      "metadata": {
        "colab": {
          "base_uri": "https://localhost:8080/"
        },
        "id": "sJ6CUU2dAkQT",
        "outputId": "c2c9bdb8-54d6-492a-c7dd-d5bf4cb1f816"
      },
      "execution_count": null,
      "outputs": [
        {
          "output_type": "stream",
          "name": "stdout",
          "text": [
            "gordo\n",
            "clavo\n",
            "yuset\n",
            "blanco\n"
          ]
        }
      ]
    },
    {
      "cell_type": "code",
      "execution_count": null,
      "metadata": {
        "colab": {
          "base_uri": "https://localhost:8080/"
        },
        "id": "yXdddjJM99Qy",
        "outputId": "646e04bf-dbf1-4bb1-d87e-fed93fbae478"
      },
      "outputs": [
        {
          "output_type": "stream",
          "name": "stdout",
          "text": [
            "clavo\n"
          ]
        }
      ],
      "source": [
        "b=[\"gordo\",\"clavo\",\"yuset\",\"blanco\"]\n",
        "\n",
        "def lista(nombre):\n",
        "  for i in nombre:\n",
        "    if  i ==\"clavo\":\n",
        "     print(i)\n",
        "\n",
        "lista(b)\n"
      ]
    },
    {
      "cell_type": "code",
      "source": [
        "lista(b)"
      ],
      "metadata": {
        "colab": {
          "base_uri": "https://localhost:8080/"
        },
        "id": "PJ9D7UVQDDYi",
        "outputId": "8cc37398-cd77-4a28-a73e-be530dcbbcc2"
      },
      "execution_count": null,
      "outputs": [
        {
          "output_type": "stream",
          "name": "stdout",
          "text": [
            "clavo\n"
          ]
        }
      ]
    },
    {
      "cell_type": "code",
      "source": [
        "color=input(\"ingresa su color que te guste mas\")\n",
        "print(color)\n",
        "\n",
        "a=[\"rojo\",\"verde\",\"amarillo\",\"azul\",\"blanco\",\"negro\"]\n",
        "for i in color :\n",
        "  if  i == color:\n",
        "    print(i)\n",
        "    break\n",
        "  else:\n",
        "    print(\"no esta en la lista\")\n",
        "\n"
      ],
      "metadata": {
        "colab": {
          "base_uri": "https://localhost:8080/"
        },
        "id": "K-ADiERHExb_",
        "outputId": "41f1bab9-712d-4029-b7ea-d27ef2c9864b"
      },
      "execution_count": null,
      "outputs": [
        {
          "output_type": "stream",
          "name": "stdout",
          "text": [
            "ingresa su color que te guste mas verde\n",
            " verde\n",
            "no esta en la lista\n",
            "no esta en la lista\n",
            "no esta en la lista\n",
            "no esta en la lista\n",
            "no esta en la lista\n",
            "no esta en la lista\n"
          ]
        }
      ]
    },
    {
      "cell_type": "code",
      "source": [
        "color = input(\"Ingresa el color que te guste más: \")\n",
        "print(color)\n",
        "\n",
        "a = [\"rojo\", \"verde\", \"amarillo\", \"azul\", \"blanco\", \"negro\"]\n",
        "if color in a:\n",
        "    print(f\"{color} está en la lista.\")\n",
        "else:\n",
        "    print(f\"{color} no está en la lista.\")"
      ],
      "metadata": {
        "colab": {
          "base_uri": "https://localhost:8080/"
        },
        "id": "hJaZ23b4HtD1",
        "outputId": "ee9be422-896c-4840-d2c3-dffed8ef3428"
      },
      "execution_count": null,
      "outputs": [
        {
          "output_type": "stream",
          "name": "stdout",
          "text": [
            "Ingresa el color que te guste más: tetas\n",
            "tetas\n",
            "tetas no está en la lista.\n"
          ]
        }
      ]
    },
    {
      "cell_type": "code",
      "source": [
        "color = input(\"Ingresa el color que te guste más: \")\n",
        "print(color)\n",
        "\n",
        "a = [\"rojo\", \"verde\", \"amarillo\", \"azul\", \"blanco\", \"negro\"]\n",
        "found = False  # Variable para verificar si encontramos el color\n",
        "\n",
        "for i in a:\n",
        "    if i == color:\n",
        "        print(f\"{color} está en la lista.\")\n",
        "        found = True\n",
        "        break  # Sale del bucle si encuentra el color\n",
        "\n",
        "if not found:\n",
        "    print(f\"{color} no está en la lista.\")"
      ],
      "metadata": {
        "colab": {
          "base_uri": "https://localhost:8080/"
        },
        "id": "wt5Ss90RIEDc",
        "outputId": "895ae6c5-f468-4eb5-c670-3da6bc51d7eb"
      },
      "execution_count": null,
      "outputs": [
        {
          "output_type": "stream",
          "name": "stdout",
          "text": [
            "Ingresa el color que te guste más: tetas\n",
            "tetas\n",
            "tetas no está en la lista.\n"
          ]
        }
      ]
    }
  ]
}